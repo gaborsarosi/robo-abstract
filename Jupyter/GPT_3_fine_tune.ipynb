{
  "nbformat": 4,
  "nbformat_minor": 0,
  "metadata": {
    "colab": {
      "name": "GPT-3 tests.ipynb",
      "provenance": [],
      "collapsed_sections": [
        "nb_zbsEazY1y"
      ]
    },
    "kernelspec": {
      "name": "python3",
      "display_name": "Python 3"
    },
    "language_info": {
      "name": "python"
    }
  },
  "cells": [
    {
      "cell_type": "markdown",
      "source": [
        "This builds heavily on [this notebook](https://wandb.ai/ivangoncharov/GPT-3%20to%20Generate%20Doctor%20Who%20Synopses/reports/Using-OpenAI-s-GPT-3-to-Generate-Doctor-Who-Episode-Synopses---VmlldzoxNTI3NDIw) by Ivan Goncharov."
      ],
      "metadata": {
        "id": "EdVj9jZZlLFU"
      }
    },
    {
      "cell_type": "markdown",
      "source": [
        "# Setting up"
      ],
      "metadata": {
        "id": "UqPpbwuSxVbF"
      }
    },
    {
      "cell_type": "code",
      "source": [
        "pip install --upgrade openai"
      ],
      "metadata": {
        "colab": {
          "base_uri": "https://localhost:8080/"
        },
        "id": "oM44Dne4vSlV",
        "outputId": "6a460fe7-7c05-4553-9ec2-2874652b6380"
      },
      "execution_count": 1,
      "outputs": [
        {
          "output_type": "stream",
          "name": "stdout",
          "text": [
            "Looking in indexes: https://pypi.org/simple, https://us-python.pkg.dev/colab-wheels/public/simple/\n",
            "Collecting openai\n",
            "  Downloading openai-0.20.0.tar.gz (42 kB)\n",
            "\u001b[K     |████████████████████████████████| 42 kB 487 kB/s \n",
            "\u001b[?25h  Installing build dependencies ... \u001b[?25l\u001b[?25hdone\n",
            "  Getting requirements to build wheel ... \u001b[?25l\u001b[?25hdone\n",
            "    Preparing wheel metadata ... \u001b[?25l\u001b[?25hdone\n",
            "Collecting pandas-stubs>=1.1.0.11\n",
            "  Downloading pandas_stubs-1.2.0.62-py3-none-any.whl (163 kB)\n",
            "\u001b[K     |████████████████████████████████| 163 kB 7.9 MB/s \n",
            "\u001b[?25hRequirement already satisfied: openpyxl>=3.0.7 in /usr/local/lib/python3.7/dist-packages (from openai) (3.0.10)\n",
            "Requirement already satisfied: pandas>=1.2.3 in /usr/local/lib/python3.7/dist-packages (from openai) (1.3.5)\n",
            "Requirement already satisfied: tqdm in /usr/local/lib/python3.7/dist-packages (from openai) (4.64.0)\n",
            "Requirement already satisfied: requests>=2.20 in /usr/local/lib/python3.7/dist-packages (from openai) (2.23.0)\n",
            "Requirement already satisfied: et-xmlfile in /usr/local/lib/python3.7/dist-packages (from openpyxl>=3.0.7->openai) (1.1.0)\n",
            "Requirement already satisfied: python-dateutil>=2.7.3 in /usr/local/lib/python3.7/dist-packages (from pandas>=1.2.3->openai) (2.8.2)\n",
            "Requirement already satisfied: numpy>=1.17.3 in /usr/local/lib/python3.7/dist-packages (from pandas>=1.2.3->openai) (1.21.6)\n",
            "Requirement already satisfied: pytz>=2017.3 in /usr/local/lib/python3.7/dist-packages (from pandas>=1.2.3->openai) (2022.1)\n",
            "Requirement already satisfied: typing-extensions>=3.7.4.3 in /usr/local/lib/python3.7/dist-packages (from pandas-stubs>=1.1.0.11->openai) (4.1.1)\n",
            "Requirement already satisfied: six>=1.5 in /usr/local/lib/python3.7/dist-packages (from python-dateutil>=2.7.3->pandas>=1.2.3->openai) (1.15.0)\n",
            "Requirement already satisfied: certifi>=2017.4.17 in /usr/local/lib/python3.7/dist-packages (from requests>=2.20->openai) (2022.6.15)\n",
            "Requirement already satisfied: urllib3!=1.25.0,!=1.25.1,<1.26,>=1.21.1 in /usr/local/lib/python3.7/dist-packages (from requests>=2.20->openai) (1.24.3)\n",
            "Requirement already satisfied: idna<3,>=2.5 in /usr/local/lib/python3.7/dist-packages (from requests>=2.20->openai) (2.10)\n",
            "Requirement already satisfied: chardet<4,>=3.0.2 in /usr/local/lib/python3.7/dist-packages (from requests>=2.20->openai) (3.0.4)\n",
            "Building wheels for collected packages: openai\n",
            "  Building wheel for openai (PEP 517) ... \u001b[?25l\u001b[?25hdone\n",
            "  Created wheel for openai: filename=openai-0.20.0-py3-none-any.whl size=54118 sha256=0880574984b72defb9e829a919dccb96f77cc16d4a71196fa8b21565a7b196c7\n",
            "  Stored in directory: /root/.cache/pip/wheels/71/8d/9b/e28529ec53123e0279208f99148d4661232120d78cb866839b\n",
            "Successfully built openai\n",
            "Installing collected packages: pandas-stubs, openai\n",
            "Successfully installed openai-0.20.0 pandas-stubs-1.2.0.62\n"
          ]
        }
      ]
    },
    {
      "cell_type": "code",
      "source": [
        "import openai"
      ],
      "metadata": {
        "id": "QtGAtwK5vvEg"
      },
      "execution_count": 2,
      "outputs": []
    },
    {
      "cell_type": "markdown",
      "source": [
        "Put your OpenAI API key:"
      ],
      "metadata": {
        "id": "2KSVUUAonUZ0"
      }
    },
    {
      "cell_type": "code",
      "source": [
        "openai.api_key='put your API key here'\n",
        "%env OPENAI_API_KEY=put your API key here"
      ],
      "metadata": {
        "id": "2DdVFNGhv8HR",
        "colab": {
          "base_uri": "https://localhost:8080/"
        },
        "outputId": "ee4b5dfc-88ee-4b58-cc78-699a8a3a194c"
      },
      "execution_count": 25,
      "outputs": [
        {
          "output_type": "stream",
          "name": "stdout",
          "text": [
            "env: OPENAI_API_KEY=put your API key here\n"
          ]
        }
      ]
    },
    {
      "cell_type": "markdown",
      "source": [
        "Get a quick trial response:"
      ],
      "metadata": {
        "id": "YTChfW9NkXDP"
      }
    },
    {
      "cell_type": "code",
      "execution_count": null,
      "metadata": {
        "id": "5uSDuftju_7-"
      },
      "outputs": [],
      "source": [
        "response = openai.Completion.create(\n",
        "  model=\"text-curie-001\",\n",
        "  prompt='Write an abstract for a paper titled \"Celestial Yang-Mills Amplitudes and D=4 Conformal Blocks\", published in 2022',\n",
        "  temperature=0.4,\n",
        "  max_tokens=400\n",
        ")"
      ]
    },
    {
      "cell_type": "code",
      "source": [
        "print(response['choices'][0]['text'])"
      ],
      "metadata": {
        "colab": {
          "base_uri": "https://localhost:8080/"
        },
        "id": "1a7Y15T6vRV9",
        "outputId": "d5a77ebe-b735-468d-e7fa-df60f68b75b4"
      },
      "execution_count": null,
      "outputs": [
        {
          "output_type": "stream",
          "name": "stdout",
          "text": [
            "\n",
            "\n",
            "The study of Yang-Mills amplitudes in D=4 conformal blocks is presented. In particular, the amplitudes of the Majorana fermion and the Dirac fermion are studied. It is found that the Majorana amplitude is larger than the Dirac amplitude in all conformal blocks. The reason for this is not clear, but it may be related to the topological properties of the conformal blocks.\n"
          ]
        }
      ]
    },
    {
      "cell_type": "markdown",
      "source": [
        "# Creating some prompt-completion pairs"
      ],
      "metadata": {
        "id": "O-peohFFxX9X"
      }
    },
    {
      "cell_type": "code",
      "source": [
        "import json\n",
        "import pandas as pd\n",
        "from random import sample"
      ],
      "metadata": {
        "id": "ebzHTiZexlsB"
      },
      "execution_count": 4,
      "outputs": []
    },
    {
      "cell_type": "markdown",
      "source": [
        "Load cleandata.json from the inspire scraper"
      ],
      "metadata": {
        "id": "IkyUr2y-kjTN"
      }
    },
    {
      "cell_type": "code",
      "source": [
        "with open(\"cleandata.json\", \"r\") as f:\n",
        "    cleandata=json.load(f)"
      ],
      "metadata": {
        "id": "Tei4C6urxt-C"
      },
      "execution_count": 5,
      "outputs": []
    },
    {
      "cell_type": "code",
      "source": [
        "len(cleandata)"
      ],
      "metadata": {
        "colab": {
          "base_uri": "https://localhost:8080/"
        },
        "id": "qaydaOXnyS2l",
        "outputId": "38d3fedc-7b9c-47c9-b0ae-6132e01e7a96"
      },
      "execution_count": 6,
      "outputs": [
        {
          "output_type": "execute_result",
          "data": {
            "text/plain": [
              "5001"
            ]
          },
          "metadata": {},
          "execution_count": 6
        }
      ]
    },
    {
      "cell_type": "code",
      "source": [
        "cleandata[13]['date']"
      ],
      "metadata": {
        "colab": {
          "base_uri": "https://localhost:8080/",
          "height": 37
        },
        "id": "qvmcjGpDzPK5",
        "outputId": "a5a80e4e-7a31-40fe-d9b3-3574957a39bc"
      },
      "execution_count": 7,
      "outputs": [
        {
          "output_type": "execute_result",
          "data": {
            "text/plain": [
              "'2004-07'"
            ],
            "application/vnd.google.colaboratory.intrinsic+json": {
              "type": "string"
            }
          },
          "metadata": {},
          "execution_count": 7
        }
      ]
    },
    {
      "cell_type": "code",
      "source": [
        "prompt_completion=[]\n",
        "for c in cleandata:\n",
        "  pr='Write an abstract for a paper titled \"'+c['title']+'\" written in '+c['date']+'.'\n",
        "  comp=c['abstract']\n",
        "  prompt_completion+=[{'prompt':pr,'completion':comp}]"
      ],
      "metadata": {
        "id": "2cgUjSc6yf1W"
      },
      "execution_count": 8,
      "outputs": []
    },
    {
      "cell_type": "code",
      "source": [
        "prompt_completion[:2]"
      ],
      "metadata": {
        "colab": {
          "base_uri": "https://localhost:8080/"
        },
        "id": "wex2d32SzjGg",
        "outputId": "8b23b000-a0d8-421e-ce2b-7ea96e154cca"
      },
      "execution_count": 9,
      "outputs": [
        {
          "output_type": "execute_result",
          "data": {
            "text/plain": [
              "[{'completion': 'The high star formation rates of luminous infrared galaxies (LIRGs) make them ideal places for core-collapse supernova (CCSN) searches. At radio frequencies, free from dust extinction, it is possible to detect compact components within the innermost LIRG nuclear regions, such as SNe and SN remnants, as well as AGN buried deep in the LIRG nuclei. We studied the LIRG IC883 aiming at: (i) investigating its (circum-)nuclear regions using the e-EVN at 5GHz, and e-MERLIN at 6.9GHz, complemented by archival VLBI data; (ii) detecting at radio frequencies the two recently reported circumnuclear SNe 2010cu and 2011hi, which were discovered by near-IR (NIR) adaptive optics observations of IC883; and (iii) further investigating the nature of SN2011hi at NIR by means of observations with Gemini-North. The circumnuclear regions traced by e-MERLIN at 6.9GHz have an extension of ~1kpc, and show a striking double-sided structure, which very likely corresponds to a warped rotating ring, in agreement with previous studies. Our e-EVN observations at 5GHz and complementary archival VLBI data at 5GHz and 8.4GHz, reveal the presence of various milliarcsec compact components in the nucleus of IC883. A single compact source, an AGN candidate, dominates the emission at both nuclear and circumnuclear scales, as imaged with the e-EVN and e-MERLIN, respectively. The other milliarcsec components are very suggestive of ongoing nuclear CCSN activity. Our e-EVN observations also resulted in upper limits to the radio luminosity of the two SNe in IC883 recently discovered at NIR. We refine the classification of SN2011hi as a Type IIP SN according to our latest Gemini-North epoch from 2012, in agreement with a low-luminosity radio SN nature. We estimate a CCSN rate lower limit of 1.1_{-0.6}^{+1.3} yr^{-1} for the entire galaxy, based on three nuclear radio SNe and the circumnuclear SNe 2010cu and 2011hi. (abridged)',\n",
              "  'prompt': 'Write an abstract for a paper titled \"e-MERLIN and VLBI observations of the luminous infrared galaxy IC883: a nuclear starburst and an AGN candidate revealed\" written in 2012-05.'},\n",
              " {'completion': 'We were asked to debate the value of the cosmological mass-density parameter Omega. Is Omega_m=1 in accordance with the simplest model? Is Omega_m much smaller as indicated by some observations? There is conflicting evidence. We lay out the various methods for measuring Omega_m, mention new developments and current estimates, and focus on prospects versus the associated difficulties. We try to shed light on the uncertainties that are responsible for the span of estimates for Omega_m. We divide the methods into the following four classes: a. Global measures of the properties of space-time that constrain combinations of Omega_m and the other cosmological parameters (Lambda, Ho, to). b. Virialized Systems. Nonlinear dynamics within galaxies and clusters on comoving scales 1-10 Mpc/h. c. Large-scale structure. Mildly-nonlinear gravitational dynamics of fluctuations on scales 10-100 Mpc/h, in particular cosmic flows. d. Growth rate of fluctuations from the last scattering of the CMB or from high redshift galaxies to the present. Methods (b) typically yield low values of Omega_m=0.2-0.3. Methods (a) and (c) typically indicate higher values of Omega_m=0.4-1.',\n",
              "  'prompt': 'Write an abstract for a paper titled \"Measuring omega\" written in 1996-06.'}]"
            ]
          },
          "metadata": {},
          "execution_count": 9
        }
      ]
    },
    {
      "cell_type": "markdown",
      "source": [
        "# Get a couple of examples without fine-tuning"
      ],
      "metadata": {
        "id": "nb_zbsEazY1y"
      }
    },
    {
      "cell_type": "code",
      "source": [
        "testdata=[]\n",
        "for i,pc in enumerate(prompt_completion[:19]):\n",
        "  response = openai.Completion.create(\n",
        "    model=\"text-curie-001\",\n",
        "    prompt=pc['prompt'],\n",
        "    temperature=0.4,\n",
        "    max_tokens=600\n",
        "  )\n",
        "  entry = {'title':cleandata[i]['title'], 'real_abstract':cleandata[i]['abstract'], 'fake_abstract':response['choices'][0]['text']}\n",
        "  testdata+=[entry]"
      ],
      "metadata": {
        "id": "GTaBjWtbikrq"
      },
      "execution_count": null,
      "outputs": []
    },
    {
      "cell_type": "code",
      "source": [
        "testdata[10:15]"
      ],
      "metadata": {
        "colab": {
          "base_uri": "https://localhost:8080/"
        },
        "id": "a99zEntOkN5R",
        "outputId": "ac729616-ff36-4e42-8f9a-52439f8c884d"
      },
      "execution_count": null,
      "outputs": [
        {
          "output_type": "execute_result",
          "data": {
            "text/plain": [
              "[{'fake_abstract': '\\n\\nIn this paper, we study the mean-field theory of baryonic matter in the large $N_{c}$ and heavy quark mass limits. We find that the theory is in good agreement with the latest results from the LHC.',\n",
              "  'real_abstract': \"We discuss theoretical issues pertaining to baryonic matter in the combined heavy-quark and large $N_c$ limits of QCD. Witten's classic argument that baryons and interacting systems of baryons can be described in a mean-field approximation with each of the quarks moving in an average potential due to the remaining quarks is heuristic. It is important to justify this heuristic description for the case of baryonic matter since systems of interacting baryons are intrinsically more complicated than single baryons due to the possibility of hidden color states---states in which the subsystems making up the entire baryon crystal are not color-singlet nucleons but rather colorful states coupled together to make a color-singlet state. In this work, we provide a formal justification of this heuristic prescription. In order to do this, we start by taking the heavy quark limit, thus effectively reducing the problem to a many-body quantum mechanical system. This problem can be formulated in terms of integrals over coherent states, which for this problem are simple Slater determinants. We show that for the many-body problem, the support region for these integrals becomes narrow at large $N_c$, yielding an energy which is well-approximated by a single coherent state---that is a mean-field description. Corrections to the energy are of relative order $1/N_c$. While hidden color states are present in the exact state of the heavy quark system, they only influence the interaction energy at sub-leading order in $1/N_{c}$.\",\n",
              "  'title': 'Mean-field theory of baryonic matter for QCD in the large  $N_{c}$ and heavy quark mass limits'},\n",
              " {'fake_abstract': '\\n\\nThe goal of the Large Hadron Collider (LHC) is to explore the fundamental structure of the universe by smashing together protons at near the speed of light. If the LHC can find the elusive Higgs boson, it would provide the first direct evidence of the existence of the fundamental particles that make up the universe. However, the LHC is not the only particle accelerator in operation. The muon collider, which is located in Europe, is also capable of exploring the fundamental structure of the universe. If the LHC can find the Higgs boson, the muon collider will be able to confirm its existence.',\n",
              "  'real_abstract': 'The physics issues of a muon collider Higgs factory are discussed. Conversion of a neutrino factory to a Higgs factory and progress in R&D; towards a muon collider are summarized.',\n",
              "  'title': 'Towards a Higgs factory / muon collider'},\n",
              " {'fake_abstract': '\\n\\nThe BFKL equation with running QCD coupling and HERA data is investigated. The equation is solved for the quark and gluon masses, the quark and gluon charge, the quark and gluon spin, and the quark and gluon momenta. The results are compared with the predictions of the Standard Model. The agreement is good for the masses and moments, but less so for the charges and spins. The differences may be due to the limited resolution of the HERA data.',\n",
              "  'real_abstract': 'In this paper we developed approach based on the BFKL evolution in $\\\\ln\\\\Lb Q^2\\\\Rb$. We show that the simplest diffusion approximation with running QCD coupling is able to describe the HERA experimental data on the deep inelastic structure function with good $\\\\chi^2/d.o.f. \\\\approx 1.3$. From our description of the experimental data we learned several lessons; (i) the non-perturbative physics at long distances started to show up at $Q^2 = 0.25\\\\,GeV^2$; (ii) the scattering amplitude at $Q^2 = 0.25\\\\,GeV^2$ cannot be written as sum of soft Pomeron and the secondary Reggeon but the Pomeron interactions should be taken into account; (iii) the Pomeron interactions can be reduced to the enhanced diagrams and, therefore, we do not see any needs for the shadowing corrections at HERA energies; and (iv) we demonstrated that the shadowing correction could be sizable at higher than HERA energies without any contradiction with our initial conditions.',\n",
              "  'title': 'BFKL equation with running QCD coupling and HERA data'},\n",
              " {'fake_abstract': '\\n\\nIn this paper, we study the dynamical velocity superposition effect in the quantum-foam in-flow theory of gravity. We show that the effect can lead to a significant deviation of the predicted gravitational waves from the standard model. We also discuss possible explanations for the deviation.',\n",
              "  'real_abstract': \"The new `quantum-foam in-flow' theory of gravity has explained numerous so-called gravitational anomalies, particularly the `dark matter' effect which is now seen to be a dynamical effect of space itself, and whose strength is determined by the fine structure constant, and not by Newton's gravitational constant G. Here we show an experimentally significant approximate dynamical effect, namely a vector superposition effect which arises under certain dynamical conditions when we have absolute motion and gravitational in-flows: the velocities for these processes are shown to be approximately vectorially additive under these conditions. This effect plays a key role in interpreting the data from the numerous experiments that detected the absolute linear motion of the earth. The violations of this superposition effect lead to observable effects, such as the generation of turbulence. The flow theory also leads to vorticity effects that the Gravity Probe B gyroscope experiment will soon begin observing. As previously reported General Relativity predicts a smaller vorticity effect (therein called the Lense-Thirring `frame-dragging' effect) than the new theory of gravity.\",\n",
              "  'title': 'The Dynamical velocity superposition effect in the quantum-foam in-flow theory of gravity'},\n",
              " {'fake_abstract': '\\n\\nIn this paper we study the fermion masses from dimensional reduction. We first consider the case of a single particle in a one-dimensional space. We show that the mass of the particle is given by the sum of the masses of the particles in the space. We then generalize this result to the case of a collection of particles in a two-dimensional space. We show that the mass of the collection is given by the sum of the masses of the particles in the space. We also show that the mass of a single particle in a two-dimensional space is given by the sum of the masses of the particles in the space and the mass of the particle in a one-dimensional space.',\n",
              "  'real_abstract': 'We consider the fermion masses in gauge theories obtained from ten dimensions through dimensional reduction on coset spaces. We calculate the general fermion mass matrix and we apply the mass formula in illustrative examples.',\n",
              "  'title': 'Fermion Masses From Dimensional Reduction'}]"
            ]
          },
          "metadata": {},
          "execution_count": 19
        }
      ]
    },
    {
      "cell_type": "code",
      "source": [
        "with open(\"testdata.json\", \"w\") as write_file:\n",
        "    json.dump(testdata, write_file, indent=4)"
      ],
      "metadata": {
        "id": "ITLr8VWskcij"
      },
      "execution_count": null,
      "outputs": []
    },
    {
      "cell_type": "markdown",
      "source": [
        "# Fine Tune GPT-3"
      ],
      "metadata": {
        "id": "uj1cql210IQP"
      }
    },
    {
      "cell_type": "markdown",
      "source": [
        "## Re-create pairs with fine tuning requirements: no instructions included in prompt"
      ],
      "metadata": {
        "id": "oZZQ30FErqmH"
      }
    },
    {
      "cell_type": "code",
      "source": [
        "prompt_completion=[]\n",
        "for c in cleandata:\n",
        "  #avoid double punctuation in prompt\n",
        "  if c['title'][-1] == '.':\n",
        "    pr = c['title']\n",
        "  else:\n",
        "    pr = c['title'] + '.'\n",
        "  comp=c['abstract']\n",
        "  prompt_completion+=[{'prompt':pr,'completion':comp}]"
      ],
      "metadata": {
        "id": "Cf1RJjfKro5Y"
      },
      "execution_count": 10,
      "outputs": []
    },
    {
      "cell_type": "code",
      "source": [
        "prompt_completion[:3]"
      ],
      "metadata": {
        "colab": {
          "base_uri": "https://localhost:8080/"
        },
        "outputId": "eb7375f6-7a1d-4727-d118-ff8df975e376",
        "id": "Hhex5zcSro5a"
      },
      "execution_count": 11,
      "outputs": [
        {
          "output_type": "execute_result",
          "data": {
            "text/plain": [
              "[{'completion': 'The high star formation rates of luminous infrared galaxies (LIRGs) make them ideal places for core-collapse supernova (CCSN) searches. At radio frequencies, free from dust extinction, it is possible to detect compact components within the innermost LIRG nuclear regions, such as SNe and SN remnants, as well as AGN buried deep in the LIRG nuclei. We studied the LIRG IC883 aiming at: (i) investigating its (circum-)nuclear regions using the e-EVN at 5GHz, and e-MERLIN at 6.9GHz, complemented by archival VLBI data; (ii) detecting at radio frequencies the two recently reported circumnuclear SNe 2010cu and 2011hi, which were discovered by near-IR (NIR) adaptive optics observations of IC883; and (iii) further investigating the nature of SN2011hi at NIR by means of observations with Gemini-North. The circumnuclear regions traced by e-MERLIN at 6.9GHz have an extension of ~1kpc, and show a striking double-sided structure, which very likely corresponds to a warped rotating ring, in agreement with previous studies. Our e-EVN observations at 5GHz and complementary archival VLBI data at 5GHz and 8.4GHz, reveal the presence of various milliarcsec compact components in the nucleus of IC883. A single compact source, an AGN candidate, dominates the emission at both nuclear and circumnuclear scales, as imaged with the e-EVN and e-MERLIN, respectively. The other milliarcsec components are very suggestive of ongoing nuclear CCSN activity. Our e-EVN observations also resulted in upper limits to the radio luminosity of the two SNe in IC883 recently discovered at NIR. We refine the classification of SN2011hi as a Type IIP SN according to our latest Gemini-North epoch from 2012, in agreement with a low-luminosity radio SN nature. We estimate a CCSN rate lower limit of 1.1_{-0.6}^{+1.3} yr^{-1} for the entire galaxy, based on three nuclear radio SNe and the circumnuclear SNe 2010cu and 2011hi. (abridged)',\n",
              "  'prompt': 'e-MERLIN and VLBI observations of the luminous infrared galaxy IC883: a nuclear starburst and an AGN candidate revealed.'},\n",
              " {'completion': 'We were asked to debate the value of the cosmological mass-density parameter Omega. Is Omega_m=1 in accordance with the simplest model? Is Omega_m much smaller as indicated by some observations? There is conflicting evidence. We lay out the various methods for measuring Omega_m, mention new developments and current estimates, and focus on prospects versus the associated difficulties. We try to shed light on the uncertainties that are responsible for the span of estimates for Omega_m. We divide the methods into the following four classes: a. Global measures of the properties of space-time that constrain combinations of Omega_m and the other cosmological parameters (Lambda, Ho, to). b. Virialized Systems. Nonlinear dynamics within galaxies and clusters on comoving scales 1-10 Mpc/h. c. Large-scale structure. Mildly-nonlinear gravitational dynamics of fluctuations on scales 10-100 Mpc/h, in particular cosmic flows. d. Growth rate of fluctuations from the last scattering of the CMB or from high redshift galaxies to the present. Methods (b) typically yield low values of Omega_m=0.2-0.3. Methods (a) and (c) typically indicate higher values of Omega_m=0.4-1.',\n",
              "  'prompt': 'Measuring omega.'},\n",
              " {'completion': 'We present the spectroscopic discovery of a broad-lined Type Ic supernova (SN 2010bh) associated with the nearby long-duration gamma-ray burst (GRB) 100316D. At z = 0.0593, this is the third-nearest GRB-SN. Nightly optical spectra obtained with the Magellan telescopes during the first week after explosion reveal the gradual emergence of very broad spectral features superposed on a blue continuum. The supernova features are typical of broad-lined SNe Ic and are generally consistent with previous supernovae associated with low-redshift GRBs. However, the inferred velocities of SN 2010bh at 21 days after explosion are a factor of ~2 times larger than those of the prototypical SN 1998bw at similar epochs, with v ~ 26,000 km/s, indicating a larger explosion energy or a different ejecta structure. A near-infrared spectrum taken 13.8 days after explosion shows no strong evidence for He I at 1.083 microns, implying that the progenitor was largely stripped of its helium envelope. The host galaxy is of low luminosity (M_R ~ -18.5 mag) and low metallicity (Z < 0.4 Z_solar), similar to the hosts of other low-redshift GRB-SNe.',\n",
              "  'prompt': 'Spectroscopic Discovery of the Broad-Lined Type Ic Supernova 2010bh Associated with the Low-Redshift GRB 100316D.'}]"
            ]
          },
          "metadata": {},
          "execution_count": 11
        }
      ]
    },
    {
      "cell_type": "markdown",
      "source": [
        "Select 400 random pairs for fine tuning:"
      ],
      "metadata": {
        "id": "5gift6Ni0Pf7"
      }
    },
    {
      "cell_type": "code",
      "source": [
        "train_prompt_completion=sample(prompt_completion,400)"
      ],
      "metadata": {
        "id": "my_C_xp90Oe0"
      },
      "execution_count": null,
      "outputs": []
    },
    {
      "cell_type": "code",
      "source": [
        "train_prompt_completion[:5]"
      ],
      "metadata": {
        "colab": {
          "base_uri": "https://localhost:8080/"
        },
        "id": "mv3JA_z2r4Vl",
        "outputId": "1bcd0dea-6b75-45e3-e726-1b1dbc5f4c33"
      },
      "execution_count": null,
      "outputs": [
        {
          "output_type": "execute_result",
          "data": {
            "text/plain": [
              "[{'completion': 'Several analyses of the microwave sky maps from the Wilkinson Microwave Anisotropy Probe (WMAP) have drawn attention to alignments amongst the low-order multipoles. Amongst the various possible explanations, an effect of cosmic topology has been invoked by several authors. We focus on an alignment of the first four multipoles (\\\\ell = 2 to 5) found by Land and Magueijo (2005), and investigate the distribution of their alignment statistic for a set of simulated cosmic microwave background maps for cosmologies with slab-like topology. We find that this topology does offer a modest increase in the probability of the observed value, but that even for the smallest topology considered the probability of the observed value remains below one percent.',\n",
              "  'prompt': 'Cosmic microwave background multipole alignments in slab topologies.'},\n",
              " {'completion': 'We show that recent experiment data for the ratios $E_{1^+}/M_{1^+}$ and $S_{1^+}/M_{1^+}$ can be explained in a dynamical model for electromagnetic production of pions, together with a simple scaling assumption for the bare $\\\\gamma^* N \\\\Delta$ form factors. Within our model we find that the bare $\\\\Delta$ is almost spherical and the electric E2 and Coulomb C2 quadrupole excitations of the physical $\\\\Delta$ are nearly saturated by pion cloud contribution in $Q^2 \\\\le 4.0 GeV^2$.',\n",
              "  'prompt': 'A Dynamical model for the resonant multipoles and the Delta structure.'},\n",
              " {'completion': 'Bipolar active regions in both hemispheres tend to be tilted with respect to the East West equator of the Sun in accordance with Joys law that describes the average tilt angle as a function of latitude. Mt. Wilson observatory data from 1917 to 1985 are used to analyze the active-region tilt angle as a function of solar cycle, hemisphere, and longitude, in addition to the more common dependence on latitude. Our main results are as follows: i) We recommend a revision of Joys law toward a weaker dependence on latitude (slope of 0.13 to 0.26) and without forcing the tilt to zero at the Equator. ii) We determine that the hemispheric mean tilt value of active regions varies with each solar cycle, although the noise from a stochastic process dominates and does not allow for a determination of the slope of Joys law on an 11-year time scale. iii) The hemispheric difference in mean tilt angles, 1.1 degrees + 0.27, over Cycles 16 to 21 was significant to a three-sigma level, with average tilt angles in the northern and southern hemispheres of 4.7 degrees + 0.26 and 3.6 degrees + 0.27 respectively. iv) Area-weighted mean tilt angles normalized by latitude for Cycles 15 to 21 anticorrelate with cycle strength for the southern hemisphere and whole-Sun data, confirming previous results by Dasi-Espuig, Solanki, Krivova, et al. (2010, Astron. Astrophys. 518, A7). The northern hemispheric mean tilt angles do not show a dependence on cycle strength. vi) Mean tilt angles do not show a dependence on longitude for any hemisphere or cycle. In addition, the standard deviation of the mean tilt is 29 to 31 degrees for all cycles and hemispheres indicating that the scatter is due to the same consistent process even if the mean tilt angles vary.',\n",
              "  'prompt': 'Recovering Joys Law as a Function of Solar Cycle, Hemisphere, and Longitude.'},\n",
              " {'completion': 'The current paradigm of cosmic formation and evolution of galaxy clusters foresees growth mostly through merging. Galaxies in the infall region or in the core of a cluster undergo transformations owing to different environmental stresses. For two X-ray luminous clusters at redshift z ~ 0.3 with opposite X-ray morphologies, RXCJ0014.3-3022 and RXCJ2308.3-0211, we assess differences in galaxy populations as a function of cluster topography. Cluster large-scale structure and substructure are determined from the combined photometry in the B, V, and R bands, and from multi-object optical spectroscopy at low resolution. A spectral index analysis is performed, based on the [OII] and Hdelta features, and the D4000 break, available for more than 100 member galaxies per cluster. Combination of spectral indices and FUV-optical colours provides a picture of the star formation history in galaxies. In spite of the potential presence of a small fraction of galaxies with obscured star formation activity, the average star-formation history of cluster members is found to depend on cluster-centric distance and on substructure. There is a sharp increase in star formation activity along two well-defined filamentary structures of the merging cluster RXCJ0014.3-3022, out to its virial radius and beyond, produced by luminous (L ~ L*) and sub-L* galaxies. Conversely, the regular cool-core cluster RXCJ2308.3-0211 mostly hosts galaxies which either populate the red sequence or are becoming passive. These results suggest the existence of a correspondence between assembly state and overall age of the stellar populations of galaxies inside the virialized region and in the surrounding large scale structure of massive clusters at z ~ 0.3. (Abridged)',\n",
              "  'prompt': 'Multi-wavelength study of X-ray luminous clusters at z ~ 0.3 I. Star formation activity of cluster galaxies.'},\n",
              " {'completion': 'The multiphonon structure is shown for the O(6) limit of the interacting boson model. The phonon states are created by the O(6) quadrupole operator with proper symmetrization. All the σ=N states can be described in this scheme in terms of phonon quanta and two-phonon anharmonicity, while the ground state is γ unstable. This structure is carried over into higher-lying σ<N states.',\n",
              "  'prompt': 'Multiphonon structure of gamma-unstable or O (6) nuclei.'}]"
            ]
          },
          "metadata": {},
          "execution_count": 30
        }
      ]
    },
    {
      "cell_type": "code",
      "source": [
        "with open(\"train_prompt_completion.json\", \"w\") as write_file:\n",
        "    json.dump(train_prompt_completion, write_file, indent=4)"
      ],
      "metadata": {
        "id": "uGoHS--E1Eb-"
      },
      "execution_count": null,
      "outputs": []
    },
    {
      "cell_type": "markdown",
      "source": [
        "## Use API to check data:"
      ],
      "metadata": {
        "id": "GEx89Hhb2Im0"
      }
    },
    {
      "cell_type": "code",
      "source": [
        "!openai tools fine_tunes.prepare_data -f train_prompt_completion.json"
      ],
      "metadata": {
        "colab": {
          "base_uri": "https://localhost:8080/"
        },
        "id": "lb0oBwlO0gTD",
        "outputId": "414050c4-5bbd-4de4-fdf7-2629ee7a8160"
      },
      "execution_count": null,
      "outputs": [
        {
          "output_type": "stream",
          "name": "stdout",
          "text": [
            "Logging requires wandb to be installed. Run `pip install wandb`.\n",
            "Analyzing...\n",
            "\n",
            "- Your file appears to be in a .JSON format. Your file will be converted to JSONL format\n",
            "- Your file contains 400 prompt-completion pairs\n",
            "- All prompts end with suffix `.`\n",
            "  WARNING: Some of your prompts contain the suffix `.` more than once. We strongly suggest that you review your prompts and add a unique suffix\n",
            "- Your data does not contain a common ending at the end of your completions. Having a common ending string appended to the end of the completion makes it clearer to the fine-tuned model where the completion should end. See https://beta.openai.com/docs/guides/fine-tuning/preparing-your-dataset for more detail and examples.\n",
            "- The completion should start with a whitespace character (` `). This tends to produce better results due to the tokenization we use. See https://beta.openai.com/docs/guides/fine-tuning/preparing-your-dataset for more details\n",
            "\n",
            "Based on the analysis we will perform the following actions:\n",
            "- [Necessary] Your format `JSON` will be converted to `JSONL`\n",
            "- [Recommended] Add a suffix ending ` END` to all completions [Y/n]: y\n",
            "- [Recommended] Add a whitespace character to the beginning of the completion [Y/n]: y\n",
            "\n",
            "\n",
            "Your data will be written to a new JSONL file. Proceed [Y/n]: y\n",
            "\n",
            "Wrote modified file to `train_prompt_completion_prepared.jsonl`\n",
            "Feel free to take a look!\n",
            "\n",
            "Now use that file when fine-tuning:\n",
            "> openai api fine_tunes.create -t \"train_prompt_completion_prepared.jsonl\"\n",
            "\n",
            "After you’ve fine-tuned a model, remember that your prompt has to end with the indicator string `.` for the model to start generating completions, rather than continuing with the prompt. Make sure to include `stop=[\" END\"]` so that the generated texts ends at the expected place.\n",
            "Once your model starts training, it'll approximately take 7.94 minutes to train a `curie` model, and less for `ada` and `babbage`. Queue will approximately take half an hour per job ahead of you.\n"
          ]
        }
      ]
    },
    {
      "cell_type": "markdown",
      "source": [
        "## Fine tune"
      ],
      "metadata": {
        "id": "llS6xVjk2Nic"
      }
    },
    {
      "cell_type": "markdown",
      "source": [
        "Use wandb for performance tracking. To do this, you need an account. It is also OK to skip."
      ],
      "metadata": {
        "id": "D-oMxTXslaXz"
      }
    },
    {
      "cell_type": "code",
      "source": [
        "!pip install wandb\n",
        "!wandb login"
      ],
      "metadata": {
        "colab": {
          "base_uri": "https://localhost:8080/"
        },
        "id": "XMFeCC06vJbk",
        "outputId": "3f8a0b9f-802a-4bb8-a9f9-74288257c3f5"
      },
      "execution_count": 15,
      "outputs": [
        {
          "output_type": "stream",
          "name": "stdout",
          "text": [
            "Looking in indexes: https://pypi.org/simple, https://us-python.pkg.dev/colab-wheels/public/simple/\n",
            "Collecting wandb\n",
            "  Downloading wandb-0.12.19-py2.py3-none-any.whl (1.8 MB)\n",
            "\u001b[K     |████████████████████████████████| 1.8 MB 5.1 MB/s \n",
            "\u001b[?25hRequirement already satisfied: six>=1.13.0 in /usr/local/lib/python3.7/dist-packages (from wandb) (1.15.0)\n",
            "Requirement already satisfied: protobuf<4.0dev,>=3.12.0 in /usr/local/lib/python3.7/dist-packages (from wandb) (3.17.3)\n",
            "Requirement already satisfied: Click!=8.0.0,>=7.0 in /usr/local/lib/python3.7/dist-packages (from wandb) (7.1.2)\n",
            "Collecting pathtools\n",
            "  Downloading pathtools-0.1.2.tar.gz (11 kB)\n",
            "Collecting GitPython>=1.0.0\n",
            "  Downloading GitPython-3.1.27-py3-none-any.whl (181 kB)\n",
            "\u001b[K     |████████████████████████████████| 181 kB 37.2 MB/s \n",
            "\u001b[?25hRequirement already satisfied: psutil>=5.0.0 in /usr/local/lib/python3.7/dist-packages (from wandb) (5.4.8)\n",
            "Collecting docker-pycreds>=0.4.0\n",
            "  Downloading docker_pycreds-0.4.0-py2.py3-none-any.whl (9.0 kB)\n",
            "Requirement already satisfied: promise<3,>=2.0 in /usr/local/lib/python3.7/dist-packages (from wandb) (2.3)\n",
            "Collecting sentry-sdk>=1.0.0\n",
            "  Downloading sentry_sdk-1.6.0-py2.py3-none-any.whl (145 kB)\n",
            "\u001b[K     |████████████████████████████████| 145 kB 37.3 MB/s \n",
            "\u001b[?25hCollecting shortuuid>=0.5.0\n",
            "  Downloading shortuuid-1.0.9-py3-none-any.whl (9.4 kB)\n",
            "Requirement already satisfied: setuptools in /usr/local/lib/python3.7/dist-packages (from wandb) (57.4.0)\n",
            "Requirement already satisfied: requests<3,>=2.0.0 in /usr/local/lib/python3.7/dist-packages (from wandb) (2.23.0)\n",
            "Collecting setproctitle\n",
            "  Downloading setproctitle-1.2.3-cp37-cp37m-manylinux_2_5_x86_64.manylinux1_x86_64.manylinux_2_17_x86_64.manylinux2014_x86_64.whl (29 kB)\n",
            "Requirement already satisfied: PyYAML in /usr/local/lib/python3.7/dist-packages (from wandb) (3.13)\n",
            "Requirement already satisfied: typing-extensions>=3.7.4.3 in /usr/local/lib/python3.7/dist-packages (from GitPython>=1.0.0->wandb) (4.1.1)\n",
            "Collecting gitdb<5,>=4.0.1\n",
            "  Downloading gitdb-4.0.9-py3-none-any.whl (63 kB)\n",
            "\u001b[K     |████████████████████████████████| 63 kB 1.5 MB/s \n",
            "\u001b[?25hCollecting smmap<6,>=3.0.1\n",
            "  Downloading smmap-5.0.0-py3-none-any.whl (24 kB)\n",
            "Requirement already satisfied: chardet<4,>=3.0.2 in /usr/local/lib/python3.7/dist-packages (from requests<3,>=2.0.0->wandb) (3.0.4)\n",
            "Requirement already satisfied: idna<3,>=2.5 in /usr/local/lib/python3.7/dist-packages (from requests<3,>=2.0.0->wandb) (2.10)\n",
            "Requirement already satisfied: urllib3!=1.25.0,!=1.25.1,<1.26,>=1.21.1 in /usr/local/lib/python3.7/dist-packages (from requests<3,>=2.0.0->wandb) (1.24.3)\n",
            "Requirement already satisfied: certifi>=2017.4.17 in /usr/local/lib/python3.7/dist-packages (from requests<3,>=2.0.0->wandb) (2022.6.15)\n",
            "Building wheels for collected packages: pathtools\n",
            "  Building wheel for pathtools (setup.py) ... \u001b[?25l\u001b[?25hdone\n",
            "  Created wheel for pathtools: filename=pathtools-0.1.2-py3-none-any.whl size=8806 sha256=190c5a16554f9c0fd04946b88f028e1a6a91a042b46581511bcd1b76db90e376\n",
            "  Stored in directory: /root/.cache/pip/wheels/3e/31/09/fa59cef12cdcfecc627b3d24273699f390e71828921b2cbba2\n",
            "Successfully built pathtools\n",
            "Installing collected packages: smmap, gitdb, shortuuid, setproctitle, sentry-sdk, pathtools, GitPython, docker-pycreds, wandb\n",
            "Successfully installed GitPython-3.1.27 docker-pycreds-0.4.0 gitdb-4.0.9 pathtools-0.1.2 sentry-sdk-1.6.0 setproctitle-1.2.3 shortuuid-1.0.9 smmap-5.0.0 wandb-0.12.19\n",
            "\u001b[34m\u001b[1mwandb\u001b[0m: Logging into wandb.ai. (Learn how to deploy a W&B server locally: https://wandb.me/wandb-server)\n",
            "\u001b[34m\u001b[1mwandb\u001b[0m: You can find your API key in your browser here: https://wandb.ai/authorize\n",
            "\u001b[34m\u001b[1mwandb\u001b[0m: Paste an API key from your profile and hit enter, or press ctrl+c to quit: \n",
            "\u001b[34m\u001b[1mwandb\u001b[0m: Appending key for api.wandb.ai to your netrc file: /root/.netrc\n"
          ]
        }
      ]
    },
    {
      "cell_type": "code",
      "source": [
        "import wandb"
      ],
      "metadata": {
        "id": "j9ceCc9-vYrs"
      },
      "execution_count": 16,
      "outputs": []
    },
    {
      "cell_type": "code",
      "source": [
        "run = wandb.init(project='GPT-3 to Generate ArXiv Abstracts')"
      ],
      "metadata": {
        "colab": {
          "base_uri": "https://localhost:8080/",
          "height": 85
        },
        "id": "3FBcfcJHv5qI",
        "outputId": "57dee810-7c2e-42ea-ac1c-79ec23d541b0"
      },
      "execution_count": null,
      "outputs": [
        {
          "output_type": "stream",
          "name": "stderr",
          "text": [
            "\u001b[34m\u001b[1mwandb\u001b[0m: Currently logged in as: \u001b[33msarosi\u001b[0m. Use \u001b[1m`wandb login --relogin`\u001b[0m to force relogin\n"
          ]
        },
        {
          "output_type": "display_data",
          "data": {
            "text/plain": [
              "<IPython.core.display.HTML object>"
            ],
            "text/html": [
              "Tracking run with wandb version 0.12.19"
            ]
          },
          "metadata": {}
        },
        {
          "output_type": "display_data",
          "data": {
            "text/plain": [
              "<IPython.core.display.HTML object>"
            ],
            "text/html": [
              "Run data is saved locally in <code>/content/wandb/run-20220623_133914-22wtzjtg</code>"
            ]
          },
          "metadata": {}
        },
        {
          "output_type": "display_data",
          "data": {
            "text/plain": [
              "<IPython.core.display.HTML object>"
            ],
            "text/html": [
              "Syncing run <strong><a href=\"https://wandb.ai/sarosi/GPT-3%20to%20Generate%20ArXiv%20Abstracts/runs/22wtzjtg\" target=\"_blank\">lyric-surf-1</a></strong> to <a href=\"https://wandb.ai/sarosi/GPT-3%20to%20Generate%20ArXiv%20Abstracts\" target=\"_blank\">Weights & Biases</a> (<a href=\"https://wandb.me/run\" target=\"_blank\">docs</a>)<br/>"
            ]
          },
          "metadata": {}
        }
      ]
    },
    {
      "cell_type": "markdown",
      "source": [
        "Split train data to training and validation."
      ],
      "metadata": {
        "id": "4OjtPtC6lkVb"
      }
    },
    {
      "cell_type": "code",
      "source": [
        "!head -n 360 train_prompt_completion_prepared.jsonl > arxiv_train.jsonl\n",
        "!tail -n 40  train_prompt_completion_prepared.jsonl > arxiv_valid.jsonl"
      ],
      "metadata": {
        "id": "yNZ3ktcnycbJ"
      },
      "execution_count": null,
      "outputs": []
    },
    {
      "cell_type": "markdown",
      "source": [
        "Set fine tuning parameters."
      ],
      "metadata": {
        "id": "T4dib0d4lrKd"
      }
    },
    {
      "cell_type": "code",
      "source": [
        "model = 'curie'  # can be ada, babbage or curie\n",
        "n_epochs = 4\n",
        "batch_size = 4\n",
        "learning_rate_multiplier = 0.1\n",
        "prompt_loss_weight = 0.1"
      ],
      "metadata": {
        "id": "jGB5Cv7lyxiu"
      },
      "execution_count": null,
      "outputs": []
    },
    {
      "cell_type": "markdown",
      "source": [
        "Do the actual fine tuning. It is done by an API request and it is happening on OpenAI's end. It is correspondingly pretty fast. Costs \\$0.85 so well within your \\$18 credit."
      ],
      "metadata": {
        "id": "gZvS5NVFl07W"
      }
    },
    {
      "cell_type": "code",
      "source": [
        "!openai api fine_tunes.create \\\n",
        "    -t arxiv_train.jsonl \\\n",
        "    -v arxiv_valid.jsonl \\\n",
        "    -m $model \\\n",
        "    --n_epochs $n_epochs \\\n",
        "    --batch_size $batch_size \\\n",
        "    --learning_rate_multiplier $learning_rate_multiplier \\\n",
        "    --prompt_loss_weight $prompt_loss_weight"
      ],
      "metadata": {
        "colab": {
          "base_uri": "https://localhost:8080/"
        },
        "id": "MHq7jPi_y4Lb",
        "outputId": "cdba44bc-a3ff-44d3-f470-147ee9727091"
      },
      "execution_count": null,
      "outputs": [
        {
          "output_type": "stream",
          "name": "stdout",
          "text": [
            "\rUpload progress:   0% 0.00/331k [00:00<?, ?it/s]\rUpload progress: 100% 331k/331k [00:00<00:00, 430Mit/s]\n",
            "Uploaded file from arxiv_train.jsonl: file-wPI5nw3Jujt5e8SsLS4YcqNP\n",
            "Upload progress: 100% 45.2k/45.2k [00:00<00:00, 60.3Mit/s]\n",
            "Uploaded file from arxiv_valid.jsonl: file-pLHdzL8EZAYcPLMCnP76C8qS\n",
            "Created fine-tune: ft-uSvPXFOZVvBCeBhGr7VexE3K\n",
            "Streaming events until fine-tuning is complete...\n",
            "\n",
            "(Ctrl-C will interrupt the stream, but not cancel the fine-tune)\n",
            "[2022-06-23 13:45:08] Created fine-tune: ft-uSvPXFOZVvBCeBhGr7VexE3K\n",
            "[2022-06-23 13:45:30] Fine-tune costs $0.85\n",
            "[2022-06-23 13:45:30] Fine-tune enqueued. Queue number: 0\n",
            "[2022-06-23 13:45:32] Fine-tune started\n",
            "[2022-06-23 13:47:13] Completed epoch 1/4\n",
            "[2022-06-23 13:48:04] Completed epoch 2/4\n",
            "[2022-06-23 13:48:56] Completed epoch 3/4\n",
            "[2022-06-23 13:49:46] Completed epoch 4/4\n",
            "[2022-06-23 13:50:10] Uploaded model: curie:ft-personal-2022-06-23-13-50-08\n",
            "[2022-06-23 13:50:43] Uploaded result file: file-j0oycxDZd7sM87GNzxoRGiDo\n",
            "[2022-06-23 13:50:43] Fine-tune succeeded\n",
            "\n",
            "Job complete! Status: succeeded 🎉\n",
            "Try out your fine-tuned model:\n",
            "\n",
            "openai api completions.create -m curie:ft-personal-2022-06-23-13-50-08 -p <YOUR_PROMPT>\n"
          ]
        }
      ]
    },
    {
      "cell_type": "code",
      "source": [
        "fine_tuned_model = 'curie:ft-personal-2022-06-23-13-50-08'"
      ],
      "metadata": {
        "id": "1YN3Zl_6mVVX"
      },
      "execution_count": null,
      "outputs": []
    },
    {
      "cell_type": "markdown",
      "source": [
        "Optionally sync performance metrics to wandb."
      ],
      "metadata": {
        "id": "t9zzNtr_mOr-"
      }
    },
    {
      "cell_type": "code",
      "source": [
        "!openai wandb sync --project \"GPT-3 to Generate ArXiv Abstracts\""
      ],
      "metadata": {
        "colab": {
          "base_uri": "https://localhost:8080/"
        },
        "id": "GNuTNzaizpoX",
        "outputId": "cfe18b0e-5ecf-4385-c205-ea0bc4d2c591"
      },
      "execution_count": null,
      "outputs": [
        {
          "output_type": "stream",
          "name": "stdout",
          "text": [
            "\u001b[34m\u001b[1mwandb\u001b[0m: Currently logged in as: \u001b[33msarosi\u001b[0m. Use \u001b[1m`wandb login --relogin`\u001b[0m to force relogin\n",
            "\u001b[34m\u001b[1mwandb\u001b[0m: Tracking run with wandb version 0.12.19\n",
            "\u001b[34m\u001b[1mwandb\u001b[0m: Run data is saved locally in \u001b[35m\u001b[1m/content/wandb/run-20220623_135108-ft-uSvPXFOZVvBCeBhGr7VexE3K\u001b[0m\n",
            "\u001b[34m\u001b[1mwandb\u001b[0m: Run \u001b[1m`wandb offline`\u001b[0m to turn off syncing.\n",
            "\u001b[34m\u001b[1mwandb\u001b[0m: Syncing run \u001b[33mft-uSvPXFOZVvBCeBhGr7VexE3K\u001b[0m\n",
            "\u001b[34m\u001b[1mwandb\u001b[0m: ⭐️ View project at \u001b[34m\u001b[4mhttps://wandb.ai/sarosi/GPT-3%20to%20Generate%20ArXiv%20Abstracts\u001b[0m\n",
            "\u001b[34m\u001b[1mwandb\u001b[0m: 🚀 View run at \u001b[34m\u001b[4mhttps://wandb.ai/sarosi/GPT-3%20to%20Generate%20ArXiv%20Abstracts/runs/ft-uSvPXFOZVvBCeBhGr7VexE3K\u001b[0m\n",
            "File file-wPI5nw3Jujt5e8SsLS4YcqNP could not be retrieved. Make sure you are allowed to download training/validation files\n",
            "File file-pLHdzL8EZAYcPLMCnP76C8qS could not be retrieved. Make sure you are allowed to download training/validation files\n",
            "\u001b[34m\u001b[1mwandb\u001b[0m: Waiting for W&B process to finish... \u001b[32m(success).\u001b[0m\n",
            "\u001b[34m\u001b[1mwandb\u001b[0m:                                                                                \n",
            "\u001b[34m\u001b[1mwandb\u001b[0m: \n",
            "\u001b[34m\u001b[1mwandb\u001b[0m: Run history:\n",
            "\u001b[34m\u001b[1mwandb\u001b[0m:             elapsed_examples ▁▁▁▁▂▂▂▂▂▃▃▃▃▃▃▄▄▄▄▄▅▅▅▅▅▅▆▆▆▆▆▇▇▇▇▇▇███\n",
            "\u001b[34m\u001b[1mwandb\u001b[0m:               elapsed_tokens ▁▁▁▁▂▂▂▂▂▃▃▃▃▃▃▄▄▄▄▄▅▅▅▅▅▅▆▆▆▆▆▇▇▇▇▇▇███\n",
            "\u001b[34m\u001b[1mwandb\u001b[0m:                training_loss ▅▆▂▅▆▅▄▅▃▆▄▅█▃▂▅█▃▄▄▆▃▃▃▃▃▂▁▃▆▆▄▆▆▃▃▃▅▂▂\n",
            "\u001b[34m\u001b[1mwandb\u001b[0m:   training_sequence_accuracy ▁▁▁▁▁▁▁▁▁▁▁▁▁▁▁▁▁▁▁▁▁▁▁▁▁▁▁▁▁▁▁▁▁▁▁▁▁▁▁▁\n",
            "\u001b[34m\u001b[1mwandb\u001b[0m:      training_token_accuracy ▂▂▄▄▂▂▂▁▂▃▄▄▃▃▄▃▂▄▃▃▅▄▃▆▄▅▃█▅▅▃▄▃▃▄▇▅▅▅▅\n",
            "\u001b[34m\u001b[1mwandb\u001b[0m:              validation_loss ▆▄▅▆▂▂▆▂▁▇▄▄▆▂▅█▃▇▂▅▅▂▆▄▃▂▅▃▇▇▅▅▃▂█▅▆▆\n",
            "\u001b[34m\u001b[1mwandb\u001b[0m: validation_sequence_accuracy ▁▁▁▁▁▁▁▁▁▁▁▁▁▁▁▁▁▁▁▁▁▁▁▁▁▁▁▁▁▁▁▁▁▁▁▁▁▁\n",
            "\u001b[34m\u001b[1mwandb\u001b[0m:    validation_token_accuracy ▄▃█▅▇▅▄▂▃▅▂█▂█▅▅▅▅▄▃▄▃▃▆▁▄▁▃▇▁▆▂▅▁▇▄▃▂\n",
            "\u001b[34m\u001b[1mwandb\u001b[0m: \n",
            "\u001b[34m\u001b[1mwandb\u001b[0m: Run summary:\n",
            "\u001b[34m\u001b[1mwandb\u001b[0m:             elapsed_examples 1448.0\n",
            "\u001b[34m\u001b[1mwandb\u001b[0m:               elapsed_tokens 462664.0\n",
            "\u001b[34m\u001b[1mwandb\u001b[0m:             fine_tuned_model curie:ft-personal-20...\n",
            "\u001b[34m\u001b[1mwandb\u001b[0m:                       status succeeded\n",
            "\u001b[34m\u001b[1mwandb\u001b[0m:                training_loss 1.05432\n",
            "\u001b[34m\u001b[1mwandb\u001b[0m:   training_sequence_accuracy 0.0\n",
            "\u001b[34m\u001b[1mwandb\u001b[0m:      training_token_accuracy 0.56146\n",
            "\u001b[34m\u001b[1mwandb\u001b[0m:              validation_loss 1.64556\n",
            "\u001b[34m\u001b[1mwandb\u001b[0m: validation_sequence_accuracy 0.0\n",
            "\u001b[34m\u001b[1mwandb\u001b[0m:    validation_token_accuracy 0.4564\n",
            "\u001b[34m\u001b[1mwandb\u001b[0m: \n",
            "\u001b[34m\u001b[1mwandb\u001b[0m: Synced \u001b[33mft-uSvPXFOZVvBCeBhGr7VexE3K\u001b[0m: \u001b[34m\u001b[4mhttps://wandb.ai/sarosi/GPT-3%20to%20Generate%20ArXiv%20Abstracts/runs/ft-uSvPXFOZVvBCeBhGr7VexE3K\u001b[0m\n",
            "\u001b[34m\u001b[1mwandb\u001b[0m: Synced 5 W&B file(s), 0 media file(s), 1 artifact file(s) and 0 other file(s)\n",
            "\u001b[34m\u001b[1mwandb\u001b[0m: Find logs at: \u001b[35m\u001b[1m./wandb/run-20220623_135108-ft-uSvPXFOZVvBCeBhGr7VexE3K/logs\u001b[0m\n",
            "🎉 wandb sync completed successfully\n"
          ]
        }
      ]
    },
    {
      "cell_type": "markdown",
      "source": [
        "# Using the fine tuned model to get predictions"
      ],
      "metadata": {
        "id": "-2op48dS0Ry3"
      }
    },
    {
      "cell_type": "markdown",
      "source": [
        "Get a bunch of random title-abstract pairs:"
      ],
      "metadata": {
        "id": "ywwwQiifmvNq"
      }
    },
    {
      "cell_type": "code",
      "source": [
        "get_prompt_completion=sample(prompt_completion,3)\n",
        "len(get_prompt_completion)"
      ],
      "metadata": {
        "colab": {
          "base_uri": "https://localhost:8080/"
        },
        "id": "7wgHmatomkI_",
        "outputId": "06635e72-f74f-4d59-c453-473604ba463a"
      },
      "execution_count": 23,
      "outputs": [
        {
          "output_type": "execute_result",
          "data": {
            "text/plain": [
              "3"
            ]
          },
          "metadata": {},
          "execution_count": 23
        }
      ]
    },
    {
      "cell_type": "markdown",
      "source": [
        "And send it to your newly fine tuned model for completion. Beware: if you send too much stuff you can quickly run out of money!"
      ],
      "metadata": {
        "id": "yT3Ezy8Am3vc"
      }
    },
    {
      "cell_type": "code",
      "source": [
        "data=[]\n",
        "i=0\n",
        "for pc in get_prompt_completion:\n",
        "  print('\\r',end='i:{}'.format(i))\n",
        "  i+=1\n",
        "  #Get response from API\n",
        "  response = openai.Completion.create(\n",
        "    model=fine_tuned_model,\n",
        "    prompt=pc['prompt'],\n",
        "    temperature=0.8,\n",
        "    max_tokens=400\n",
        "  )\n",
        "  fake = response['choices'][0]['text']\n",
        "\n",
        "  #Remove junk from the end of the response\n",
        "  fake = fake[:fake.rindex(\".\")+1]\n",
        "  try:\n",
        "    fake = fake[:fake.index(\"END\")]\n",
        "  except:\n",
        "    pass\n",
        "\n",
        "  #Create entry\n",
        "  entry = {'title':pc['prompt'], 'real_abstract':pc['completion'], 'fake_abstract':fake}\n",
        "  data+=[entry]"
      ],
      "metadata": {
        "colab": {
          "base_uri": "https://localhost:8080/"
        },
        "id": "MnVEtDga0TH3",
        "outputId": "af593d10-a39f-47eb-db7e-b843593a9221"
      },
      "execution_count": 26,
      "outputs": [
        {
          "output_type": "stream",
          "name": "stdout",
          "text": [
            "i:2"
          ]
        }
      ]
    },
    {
      "cell_type": "code",
      "source": [
        "data[:3]"
      ],
      "metadata": {
        "colab": {
          "base_uri": "https://localhost:8080/"
        },
        "id": "1Hism1Xy1zO4",
        "outputId": "8c592b3f-880e-456e-f68c-17e820b71111"
      },
      "execution_count": 27,
      "outputs": [
        {
          "output_type": "execute_result",
          "data": {
            "text/plain": [
              "[{'fake_abstract': ' We treat a class of massive scalar field Lagrangian four-dimensional spacetimes of gravitational double curvature. The action is chosen as a sum over all configurations of massless particles in the spacetime and its effective action is written in terms of the four-potential and four-magnitude. The attractor is a massless particle with spin and we get its motion in terms of its effective mass and its massless spinor. The massless spinor can be interpreted as the spin vector of a massive particle in a massless spacetime. ',\n",
              "  'real_abstract': \"Earlier we obtained quasi-classical equations of motion of spin 1/2 massless particle in a curved spacetime on base of simple Lagrangian model \\\\cite{al2}. Now we suggest an approach to derive the equations in framework of field theory. Noether theorem formulated in terms of Cartan' formalism of orthonormal frames gives equations for current of spin of the field and tensor of stress-energy. It is shown that under eikonal approximation the above mentioned equations can be reduced to equations for worldline of the particle and equation of spin of the particle along the worldline. This way conformity between corpuscular considerations of spin 1/2 massless particle and approach in framework of spinor field theory in curved spacetime is demonstrated.\",\n",
              "  'title': 'Motion of Spin 1/2 Massless Particle in a Curved Spacetime. II. Field Lagrangian Approach.'},\n",
              " {'fake_abstract': ' We describe an efficient quantum algorithm for computing the 3-manifold invariant J(x,y,z) from the wave function U(x,y,z) of a system of 2+1 coupled quantum systems, as a function of the wave function of a singular part of U(x,y,z) in the 3-manifold parameter space (x,y,z). We only consider the case where U is symmetric and its singular part is non-trivial. The algorithm is based on the representation of the wave function as the sum of plane wave solutions and a Fourier transformation. We write down an explicit expression for the computation of J(x,y,z) from U(x,y,z), and derive an explicit expression for the number of required computations. We also give an expression for the number of scalar multiplications needed in the algorithm. The algorithm requires only one quantum phase calculation.',\n",
              "  'real_abstract': 'A quantum algorithm for approximating efficiently three–manifold topologicalinvariants in the framework of $SU(2)$ Chern–Simons–Witten (CSW) topologicalquantum field theory at finite values of the coupling constant $k$ is provided.The model of computation adopted is the $q$-deformed spin network model viewedas a quantum recognizer in the sense of [1], where each basic unitary transitionfunction can be efficiently processed by a standard quantum circuit.This achievement is an extension of the algorithm for approximating polynomialinvariants of colored oriented links found in \"Spin networks, quantum automataand link invariants\" and \"An efficient quantum algorithm for colored Jonespolynomials.\" Thus all the significant quantities — partition functions andobservables — of quantum CSW theory can be processed efficiently on a quantumcomputer, reflecting the intrinsic, field-theoretic solvability of such theoryat finite $k$.The paper is supplemented by a critical overview of the basic conceptual toolsunderlying the construction of quantum invariants of links and three–manifoldsand connections with algorithmic questions that arise in geometry and quantumgravity models are discussed.',\n",
              "  'title': 'Efficient quantum processing of 3-manifold topological invariants.'},\n",
              " {'fake_abstract': ' We write down the second-order differential equations for the moduli space of the quantum field operators of a much wider class of bosons than before (i. e. $j \\\\geq 1$) and we study the solutions generalizing the usual ones for $j=1$ and $2$. More precisely, for $j$ equal to $2$, we have the usual solutions for $q^j \\\\geq 1$ and for the bosons $k \\\\to \\\\epsilon$ and $\\\\epsilon \\\\to k$, respectively. The corresponding equations for $j<2$ are a slight generalization of that for $j=2$. In particular, we prove the existence and uniqueness of the solution for the general case and we give some sharp inequalities of general character. ',\n",
              "  'real_abstract': 'A boson of spin $ j\\\\geq 1$ can be described in one of the possibilities within the Bargmann-Wigner framework by means of one sole differential equation of order twice the spin, which however is known to be inconsistent as it allows for non-local, ghost and acausally propagating solutions, all problems which are difficult to tackle. The other possibility is provided by the Fierz-Pauli framework which is based on the more comfortable to deal with second-order Klein-Gordon equation, but it needs to be supplemented by an auxiliary condition. Although the latter formalism avoids some of the pathologies of the high-order equations, it still remains plagued by some inconsistencies such as the acausal propagation of the wave fronts of the (classical) solutions within an electromagnetic environment. We here suggest a method alternative to the above two that combines their advantages while avoiding the related difficulties. Namely, we suggest one sole strictly $ D^{(j,0)\\\\oplus (0,j)}$ representation specific second-order differential equation, which is derivable from a Lagrangian and whose solutions do not violate causality. The equation under discussion presents itself as the product of the Klein-Gordon operator with a momentum-independent projector on Lorentz irreducible representation spaces constructed from one of the Casimir invariants of the spin-Lorentz group. The basis used is that of general tensor-spinors of rank 2j .',\n",
              "  'title': 'Second-order differential equations for bosons with spin $j \\\\geq 1$ and in the bases of general tensor-spinors of rank 2j.'}]"
            ]
          },
          "metadata": {},
          "execution_count": 27
        }
      ]
    },
    {
      "cell_type": "markdown",
      "source": [
        "Save and download your data."
      ],
      "metadata": {
        "id": "e--UVJmDnm-W"
      }
    },
    {
      "cell_type": "code",
      "source": [
        "with open(\"data.json\", \"w\") as write_file:\n",
        "    json.dump(data, write_file, indent=4)"
      ],
      "metadata": {
        "id": "IqQ24kQ72BJB"
      },
      "execution_count": null,
      "outputs": []
    },
    {
      "cell_type": "code",
      "source": [
        "from google.colab import files\n",
        "files.download('data.json')"
      ],
      "metadata": {
        "colab": {
          "base_uri": "https://localhost:8080/",
          "height": 17
        },
        "id": "6m_qMXKR84cL",
        "outputId": "d30e943d-8931-4662-d003-35b70a20cf8e"
      },
      "execution_count": null,
      "outputs": [
        {
          "output_type": "display_data",
          "data": {
            "text/plain": [
              "<IPython.core.display.Javascript object>"
            ],
            "application/javascript": [
              "\n",
              "    async function download(id, filename, size) {\n",
              "      if (!google.colab.kernel.accessAllowed) {\n",
              "        return;\n",
              "      }\n",
              "      const div = document.createElement('div');\n",
              "      const label = document.createElement('label');\n",
              "      label.textContent = `Downloading \"${filename}\": `;\n",
              "      div.appendChild(label);\n",
              "      const progress = document.createElement('progress');\n",
              "      progress.max = size;\n",
              "      div.appendChild(progress);\n",
              "      document.body.appendChild(div);\n",
              "\n",
              "      const buffers = [];\n",
              "      let downloaded = 0;\n",
              "\n",
              "      const channel = await google.colab.kernel.comms.open(id);\n",
              "      // Send a message to notify the kernel that we're ready.\n",
              "      channel.send({})\n",
              "\n",
              "      for await (const message of channel.messages) {\n",
              "        // Send a message to notify the kernel that we're ready.\n",
              "        channel.send({})\n",
              "        if (message.buffers) {\n",
              "          for (const buffer of message.buffers) {\n",
              "            buffers.push(buffer);\n",
              "            downloaded += buffer.byteLength;\n",
              "            progress.value = downloaded;\n",
              "          }\n",
              "        }\n",
              "      }\n",
              "      const blob = new Blob(buffers, {type: 'application/binary'});\n",
              "      const a = document.createElement('a');\n",
              "      a.href = window.URL.createObjectURL(blob);\n",
              "      a.download = filename;\n",
              "      div.appendChild(a);\n",
              "      a.click();\n",
              "      div.remove();\n",
              "    }\n",
              "  "
            ]
          },
          "metadata": {}
        },
        {
          "output_type": "display_data",
          "data": {
            "text/plain": [
              "<IPython.core.display.Javascript object>"
            ],
            "application/javascript": [
              "download(\"download_1cd55ffe-b187-452f-bc51-73b48960b42d\", \"data.json\", 1160542)"
            ]
          },
          "metadata": {}
        }
      ]
    }
  ]
}