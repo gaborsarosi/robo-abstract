{
  "nbformat": 4,
  "nbformat_minor": 0,
  "metadata": {
    "colab": {
      "name": "inspire_scrape 2.ipynb",
      "provenance": []
    },
    "kernelspec": {
      "name": "python3",
      "display_name": "Python 3"
    },
    "language_info": {
      "name": "python"
    }
  },
  "cells": [
    {
      "cell_type": "code",
      "metadata": {
        "id": "d3BATlah9gWQ"
      },
      "source": [
        "import json\n",
        "import requests\n",
        "import time\n",
        "from random import seed\n",
        "from random import randint\n",
        "\n",
        "import pickle\n",
        "import pandas as pd"
      ],
      "execution_count": null,
      "outputs": []
    },
    {
      "cell_type": "markdown",
      "source": [
        "Please read the documentation of the inspire API https://github.com/inspirehep/rest-api-doc . In particular, pay attention to the limit of the rate of requests."
      ],
      "metadata": {
        "id": "ou6e0gcCbNkE"
      }
    },
    {
      "cell_type": "markdown",
      "metadata": {
        "id": "EJO01MG0RCFa"
      },
      "source": [
        "# First, explore the structure of records\n",
        "\n"
      ]
    },
    {
      "cell_type": "markdown",
      "source": [
        "Pull a random record:"
      ],
      "metadata": {
        "id": "n4aXsmxXZwC5"
      }
    },
    {
      "cell_type": "code",
      "metadata": {
        "id": "udCjE7Vr-u0J"
      },
      "source": [
        "api_url = \"https://inspirehep.net/api/literature/299873\"\n",
        "response = requests.get(api_url)\n",
        "rawdata=response.json()"
      ],
      "execution_count": null,
      "outputs": []
    },
    {
      "cell_type": "markdown",
      "source": [
        "Check the key structure:"
      ],
      "metadata": {
        "id": "KTUjaO82Zx3g"
      }
    },
    {
      "cell_type": "code",
      "metadata": {
        "colab": {
          "base_uri": "https://localhost:8080/"
        },
        "id": "2hGqMmaq_AET",
        "outputId": "151f37f0-83cb-42f5-f902-2c0743014b44"
      },
      "source": [
        "rawdata.keys()"
      ],
      "execution_count": null,
      "outputs": [
        {
          "output_type": "execute_result",
          "data": {
            "text/plain": [
              "dict_keys(['uuid', 'id', 'revision_id', 'updated', 'created', 'links', 'metadata'])"
            ]
          },
          "metadata": {},
          "execution_count": 3
        }
      ]
    },
    {
      "cell_type": "code",
      "metadata": {
        "colab": {
          "base_uri": "https://localhost:8080/"
        },
        "id": "-cjkCrno_Vj_",
        "outputId": "76d758c9-3a44-4472-ce56-90f3b016e4a7"
      },
      "source": [
        "rawdata['metadata'].keys()"
      ],
      "execution_count": null,
      "outputs": [
        {
          "output_type": "execute_result",
          "data": {
            "text/plain": [
              "dict_keys(['citation_count_without_self_citations', 'publication_info', 'report_numbers', 'citation_count', 'dois', 'titles', '$schema', 'authors', 'curated', 'texkeys', 'citeable', 'keywords', 'refereed', 'abstracts', 'references', 'document_type', 'preprint_date', 'control_number', 'legacy_version', 'number_of_pages', 'legacy_creation_date', 'external_system_identifiers'])"
            ]
          },
          "metadata": {},
          "execution_count": 11
        }
      ]
    },
    {
      "cell_type": "code",
      "metadata": {
        "colab": {
          "base_uri": "https://localhost:8080/"
        },
        "id": "u_LwdswM_js6",
        "outputId": "11fad61f-df6c-437e-b0f9-fa2a7598b85e"
      },
      "source": [
        "rawdata['metadata']['citation_count']"
      ],
      "execution_count": null,
      "outputs": [
        {
          "output_type": "execute_result",
          "data": {
            "text/plain": [
              "3"
            ]
          },
          "metadata": {},
          "execution_count": 12
        }
      ]
    },
    {
      "cell_type": "code",
      "source": [
        "rawdata['metadata']['document_type']"
      ],
      "metadata": {
        "colab": {
          "base_uri": "https://localhost:8080/"
        },
        "id": "82R6vToQpV8a",
        "outputId": "68c3083b-f22c-436b-98e5-f4b4d35a18c2"
      },
      "execution_count": null,
      "outputs": [
        {
          "output_type": "execute_result",
          "data": {
            "text/plain": [
              "['article']"
            ]
          },
          "metadata": {},
          "execution_count": 61
        }
      ]
    },
    {
      "cell_type": "code",
      "metadata": {
        "colab": {
          "base_uri": "https://localhost:8080/",
          "height": 54
        },
        "id": "_SwttzD7_3y-",
        "outputId": "e890fdd8-a9ae-4ce4-87ae-1866917a51c7"
      },
      "source": [
        "rawdata['metadata']['titles'][0]['title']"
      ],
      "execution_count": null,
      "outputs": [
        {
          "output_type": "execute_result",
          "data": {
            "application/vnd.google.colaboratory.intrinsic+json": {
              "type": "string"
            },
            "text/plain": [
              "'Microscopic study of the alpha- O-16 interaction on the basis of the complex effective interaction and the totally antisymmetrized many-body theory'"
            ]
          },
          "metadata": {},
          "execution_count": 15
        }
      ]
    },
    {
      "cell_type": "code",
      "metadata": {
        "colab": {
          "base_uri": "https://localhost:8080/",
          "height": 156
        },
        "id": "JrnxZZWh_6fH",
        "outputId": "96309c51-589d-4775-f6a2-35c1bb016fad"
      },
      "source": [
        "rawdata['metadata']['abstracts'][0]['value']"
      ],
      "execution_count": null,
      "outputs": [
        {
          "output_type": "execute_result",
          "data": {
            "application/vnd.google.colaboratory.intrinsic+json": {
              "type": "string"
            },
            "text/plain": [
              "'The complex internucleus potential for α−16O system is investigated with the microscopic complex effective interaction and the totally antisymmetrized many-body theory. Both real and imaginary parts of the theoretical potential, in which the differences between the oscillator-width parameters of the target and the projectile are taken into account, coincide well with the phenomenological optical potential which is uniquely determined by the experimental results. As for the incident-energy dependence of the real part of internucleus potential, it is found that 70% is caused by the effect of antisymmetrization and that the rest is explained by the energy dependence of the effective interaction. For the imaginary part both the effect of antisymmetrization and the energy dependence of the effective interaction almost equally contribute to the incident-energy dependence.'"
            ]
          },
          "metadata": {},
          "execution_count": 18
        }
      ]
    },
    {
      "cell_type": "code",
      "metadata": {
        "colab": {
          "base_uri": "https://localhost:8080/",
          "height": 37
        },
        "id": "5Rflf1CkAHa8",
        "outputId": "0b6e7afb-9de1-4fe0-c46b-92d142e7a104"
      },
      "source": [
        "rawdata['metadata']['preprint_date']"
      ],
      "execution_count": null,
      "outputs": [
        {
          "output_type": "execute_result",
          "data": {
            "application/vnd.google.colaboratory.intrinsic+json": {
              "type": "string"
            },
            "text/plain": [
              "'1990-10'"
            ]
          },
          "metadata": {},
          "execution_count": 19
        }
      ]
    },
    {
      "cell_type": "markdown",
      "metadata": {
        "id": "8GOtCJc0RQao"
      },
      "source": [
        "# Main Scrapper\n",
        "\n"
      ]
    },
    {
      "cell_type": "markdown",
      "source": [
        "We will only care about: title, date, citations, and abstract. So here's a function that selects these and drops the rest."
      ],
      "metadata": {
        "id": "9y6-5oJ4ZO9h"
      }
    },
    {
      "cell_type": "code",
      "metadata": {
        "id": "pucCOalxRflW"
      },
      "source": [
        "def dropdata(data):\n",
        "  try:\n",
        "    dict={'title':data['metadata']['titles'][0]['title'],'date':data['metadata']['preprint_date'],'citations':data['metadata']['citation_count'],'abstract':data['metadata']['abstracts'][0]['value']}\n",
        "    return dict\n",
        "  except:\n",
        "    #If the record doesn't contain the data we're looking for, just return nothing.\n",
        "    return"
      ],
      "execution_count": null,
      "outputs": []
    },
    {
      "cell_type": "markdown",
      "source": [
        "Here's a function pulling $k$ random records from inspire. Please respect the waiting time prescribed by the inspirehep API."
      ],
      "metadata": {
        "id": "k2rRWRF4ah0U"
      }
    },
    {
      "cell_type": "code",
      "metadata": {
        "id": "s-ZyE5JTRflX"
      },
      "source": [
        "def pulldata(k):\n",
        "  #First we create a list of random records without duplicates\n",
        "  rands=[]\n",
        "  api_url = \"https://inspirehep.net/api/literature/\"\n",
        "  for i in range(k):\n",
        "    rands=rands+[randint(0,1638345)]\n",
        "  rands=list(set(rands))\n",
        "\n",
        "  #Now we go through the list of random records and pull the record\n",
        "  outputdata=[]\n",
        "  for i in range(len(rands)):\n",
        "    temp_url = api_url+str(rands[i])\n",
        "    response = requests.get(temp_url)\n",
        "    outputdata=outputdata+[response.json()]\n",
        "    print('\\r',end='i:{}'.format(i))\n",
        "    time.sleep(0.5)\n",
        "\n",
        "  return outputdata"
      ],
      "execution_count": null,
      "outputs": []
    },
    {
      "cell_type": "code",
      "metadata": {
        "id": "HoWZb9Z_RflX"
      },
      "source": [
        "#Calls dropdata on a list of multiple records, drops the missing ones\n",
        "def batchdropdata(datas):\n",
        "  cd=[]\n",
        "  for w in datas:\n",
        "    cw=dropdata(w)\n",
        "    if cw!=None:\n",
        "      cd=cd+[cw]\n",
        "  return cd"
      ],
      "execution_count": null,
      "outputs": []
    },
    {
      "cell_type": "code",
      "source": [
        "#Drop records that didn't exist for some reason.\n",
        "def dropwrongs(datas):\n",
        "  x=[]\n",
        "  for data in datas:\n",
        "    if 'message' in data:\n",
        "      if data['message']=='PID does not exist.':\n",
        "        pass\n",
        "    else:\n",
        "      x=x+[data]\n",
        "  return x"
      ],
      "metadata": {
        "id": "_UKn_YO7cL2f"
      },
      "execution_count": null,
      "outputs": []
    },
    {
      "cell_type": "code",
      "metadata": {
        "id": "QQeZFLAcOY4G",
        "colab": {
          "base_uri": "https://localhost:8080/"
        },
        "outputId": "48e36924-66cf-48ab-e2d8-828a902bf3c3"
      },
      "source": [
        "mydata1=pulldata(20)"
      ],
      "execution_count": null,
      "outputs": [
        {
          "output_type": "stream",
          "name": "stdout",
          "text": [
            "i:19"
          ]
        }
      ]
    },
    {
      "cell_type": "code",
      "metadata": {
        "id": "ggrkkY5MuIab"
      },
      "source": [
        "cleandata=batchdropdata(dropwrongs(mydata1))"
      ],
      "execution_count": null,
      "outputs": []
    },
    {
      "cell_type": "code",
      "metadata": {
        "colab": {
          "base_uri": "https://localhost:8080/"
        },
        "id": "WupMYkCnuLMj",
        "outputId": "42d2980a-94b8-45c3-b7d2-d912b4776dea"
      },
      "source": [
        "len(cleandata)"
      ],
      "execution_count": null,
      "outputs": [
        {
          "output_type": "execute_result",
          "data": {
            "text/plain": [
              "12"
            ]
          },
          "metadata": {},
          "execution_count": 22
        }
      ]
    },
    {
      "cell_type": "code",
      "source": [
        "cleandata[:3]"
      ],
      "metadata": {
        "colab": {
          "base_uri": "https://localhost:8080/"
        },
        "id": "z-m9yGBfcfd5",
        "outputId": "4ee1e467-457c-469b-a00f-36fde276fa7d"
      },
      "execution_count": null,
      "outputs": [
        {
          "output_type": "execute_result",
          "data": {
            "text/plain": [
              "[{'abstract': 'We have assembled a multi-frequency database by cross-correlating the NVSS catalog of radio sources with the RASSBSC list of soft X-ray sources, obtaining optical magnitude estimates from the Palomar and UK Schmidt surveys as provided by the APM and COSMOS on-line services. By exploiting the nearly unique broad-band properties of High-Energy Peaked (HBL) BL Lacs we have statistically identified a sample of 218 objects that is expected to include about 85% of BL Lacs and that is therefore several times larger than all other published samples of HBLs. Using a subset (155 objects) that is radio flux limited and statistically well-defined we have derived the \\\\vovm distribution and the LogN-LogS of extreme HBLs (fx/fr >= 3E-10 erg/cm2/s/Jansky) down to 3.5 mJy. We find that the LogN-LogS flattens around 20 mJy and that <V/Vm> = 0.42 +/- 0.02. This extends to the radio band earlier results, based on much smaller X-ray selected samples, about the anomalous cosmological observational properties of HBL BL Lacs. A comparison with the expected radio LogN-LogS of all BL Lacs (based on a beaming model) shows that extreme HBLs make up roughly 2% of the BL Lac population, independently of radio flux. This result, together with the flatness of the radio logN-logS at low fluxes, is in contrast with the predictions of a recent model which assumes an anti-correlation between peak frequency and bolometric luminosity. The extreme fx/fr flux ratios and high X-ray fluxes of these BL Lacs makes them good candidate TeV sources, some of the brighter (and closer) ones possibly detectable with the current generation of Cerenkov telescopes.',\n",
              "  'citations': 77,\n",
              "  'date': '1999-07',\n",
              "  'title': 'The sedentary multi-frequency survey. I. statistical identification and cosmological properties of hbl bl lacs'},\n",
              " {'abstract': 'The vector form factor in Kl4 decays is expressed in terms of the known decay rate π0→2γ, using the technique of current algebra, hard pions and kaon, and the assumption of partially conserved axial-vector current. Its contributions to the various Kl4 decay rates are then calculated and its largest value is found to be about 2% that of the axial-vector rate in the case of K+→π+π−e+ν decay.',\n",
              "  'citations': 7,\n",
              "  'date': '1969',\n",
              "  'title': 'Current algebra and the vector form-factor in k-l-4 decays'},\n",
              " {'abstract': 'We make use of three dimensional hydrodynamical simulations to investigate the effects of granulation on the Cu I lines of Mult. 1 in the near UV, at 324.7 nm and 327.3 nm. These lines remain strong even at very low metallicity and provide the opportunity to study the chemical evolution of Cu in the metal-poor populations. We find very strong granulation effects on these lines. In terms of abundances the neglect of such effects can lead to an overestimate of the A(Cu) by as much as 0.8 dex in dwarf stars. Comparison of our computations with stars in the metal-poor Globular Clusters NGC 6752 and NGC 6397, show that there is a systematic discrepancy between the copper abundances derived from Mult. 2 in TO stars and those derived in giant stars of the same cluster from the lines of Mult. 2 at at 510.5 nm and 587.2 nm. We conclude that the Cu I resonance lines are not reliable indicators of Cu abundance and we believe that an investigations of departures from LTE is mandatory to make use of these lines.',\n",
              "  'citations': 1,\n",
              "  'date': '2009-10',\n",
              "  'title': 'Effects of granulation on neutral copper resonance lines in metal-poor stars'},\n",
              " {'abstract': 'We have discovered that the detached double degenerate binary WD 0957-666 has an orbital period of 1.46 hours, rather than the 1.15 day orbital period reported earlier. This is the shortest period example of such a system yet discovered. We obtain a unique period, which fits both our and earlier data. At this period the emission of gravitational radiation will cause the binary to merge within approximately 2.0 x 10*8 years. This system represents a population of short orbital period binaries which will merge within a Hubble time, and so could account for type Ia supernovae, although due to the low mass of both stars (0.3 to 0.4 solar masses), it is unlikely to become a supernova itself. We have detected the companion star and have measured a mass ratio of q = 1.15. This is the third double degenerate for which q has been measured and all three have q close to 1, which is in conflict with the predicted mass ratio distribution which peaks at 0.7. This system is viewed close to edge on, and we estimate that the probability of this system undergoing eclipses is 15 %.',\n",
              "  'citations': 27,\n",
              "  'date': '1997-04',\n",
              "  'title': 'A detached double degenerate with a 1.4 hr orbital period'},\n",
              " {'abstract': 'The factorizable S -matrix with Z ( N ) symmetry is constructed. It is speculated that the field theory belonging to this S -matrix matrix is related to the scaling limit of Z ( N ) generalizations of the Ising model.',\n",
              "  'citations': 127,\n",
              "  'date': '1979-05',\n",
              "  'title': 'FACTORIZABLE Z(N) MODELS'},\n",
              " {'abstract': 'The High Acceptance Di-Electron Spectrometer (HADES) is a detector arrangement combined with a superconducting toroid for lepton pair spectroscopy presently built up at GSI (Darmstadt). HADES is designed to cope with the high-multiplicity environment of heavy ion collisions at 1 AGeV and intensities of up to 10 8 beam particles per second and central event rates of 10 5 s −1 . The detector has a geometrical acceptance of almost 50% for e + e − pairs and a mass resolution of 0.8% for ρ and ω mesons. Four low-mass drift chamber systems, two before and two behind the magnet, serve for charged particle track reconstruction. Design aspects of the drift chambers and first results from beam tests are presented.',\n",
              "  'citations': 17,\n",
              "  'date': '2002',\n",
              "  'title': 'Development of low-mass drift chambers for the HADES spectrometer'},\n",
              " {'abstract': 'The gravitational Lagrangian for many-body systems which we first presented to the post-post-Newtonian order of approximation, has recently been reconfirmed. Hwever, the recent criticism of our work has been due to a misunderstanding regarding our approach to the problem. We explain our point of view.',\n",
              "  'citations': 6,\n",
              "  'date': '1986-06',\n",
              "  'title': 'On the Lagrangian for Many Body System in General Relativity'},\n",
              " {'abstract': 'Nonleading higher-order contributions to the (x,\\xa0Q2) dependence of scaling violations of nonsinglet as well as singlet structure functions are studied for different renormalization schemes and for various input parton distributions, and are compared with standard leading-order (leading-logarithm) results. Higher-order corrections turn out to be small in the experimentally accessible range of x and Q2; since their theoretical uncertainties are of about the same magnitude as the experimental ones, modifications due to second-order contributions are unlikely to be distinguished from standard leading-logarithm results by present experiments. In addition, we represent the nonleading two-loop nonsinglet as well as singlet splitting functions by simple analytic expressions which will facilitate future detailed (x,\\xa0Q2) analyses of structure functions.',\n",
              "  'citations': 8,\n",
              "  'date': '1982-05',\n",
              "  'title': 'QUANTUM CHROMODYNAMIC HIGHER ORDER CONTRIBUTIONS TO DEEP INELASTIC SCALING VIOLATIONS'},\n",
              " {'abstract': 'In the present article we solve the Dirac-Pauli and Klein Gordon equations in an asymptotically uniformly accelerated frame when a constant magnetic field is present. We compute, via the Bogoliubov coefficients, the density of scalar and spin 1/2 particles created. We discuss the role played by the magnetic field and the thermal character of the spectrum.',\n",
              "  'citations': 2,\n",
              "  'date': '1999-10',\n",
              "  'title': 'Vacuum effects in an asymptotically uniformly accelerated frame with a constant magnetic field'},\n",
              " {'abstract': 'The search for light supersymmetric partners of the top quark (stop squark) could result into the early discovery of physics beyond the Standard Model at the LHC. In this thesis, an analysis based on ATLAS simulated data is presented to study the possibility to discover scalar top quarks at the LHC. A benchmark model in the framework of the Minimal Supersymmetric Standard Model is considered, with a stop squark lighter than the top quark, yielding a final state similar to the one for $tar{t}$ production. We demonstrate that a significant excess of signal events can be extracted with 2 fb-1 of data obtained with the parametrized detector simulation. A technique to subtract the SM background based on the data is developed to achieve this result. The detailed detector simulation has also been used to study trigger and detector effects, confirming the possibility to subtract the background from the data.',\n",
              "  'citations': 0,\n",
              "  'date': '2008',\n",
              "  'title': 'Ricerche di supersimmetria con il rivelatore ATLAS'},\n",
              " {'abstract': 'One of the earliest proposed phase transitions beyond the Landau-Ginzburg-Wilson paradigm is the quantum critical point separating an antiferromagnet and a valence-bond-solid on a square lattice. The low energy description of this transition is believed to be given by the 2+1 dimensional CP(1) model -- a theory of bosonic spinons coupled to an abelian gauge field. Monopole defects of the gauge field play a prominent role in the physics of this phase transition. In the present paper, we use the state-operator correspondence of conformal field theory in conjunction with the 1/N expansion to study monopole operators at the critical fixed point of the CP(N-1) model. This elegant method reproduces the result for monopole scaling dimension obtained through a direct calculation by Murthy and Sachdev. The technical simplicity of our approach makes it the method of choice when dealing with monopole operators in a conformal field theory.',\n",
              "  'citations': 41,\n",
              "  'date': '2008-09',\n",
              "  'title': 'Monopoles in CP**(N-1) model via the state-operator correspondence'},\n",
              " {'abstract': 'The Ca41(d,He3)K40 reaction has been studied at a bombarding energy of 20 MeV using a multigap magnetic spectrometer. Energy levels in K40 up to 3 MeV excitation energy have been observed. All the levels coming from the [1f72−(1d32)−1] particle-hole configuration have been well resolved. Distorted wave analysis using exact finite range calculations have provided good values of the spectroscopic strengths for the observed particle-hole multiplets.\\nNUCLEAR REACTIONS Ca41(d,He3)K40, E=20 MeV; measured σ(EHe3,θ) and spectroscopic factors. Enriched radioactive target.',\n",
              "  'citations': 6,\n",
              "  'date': '1979-07',\n",
              "  'title': 'Ca-41 (d, He-3) K-40 reaction at 20 MeV'}]"
            ]
          },
          "metadata": {},
          "execution_count": 23
        }
      ]
    },
    {
      "cell_type": "markdown",
      "source": [
        "Let's save our cleaned data."
      ],
      "metadata": {
        "id": "RBsbCBbBqg-E"
      }
    },
    {
      "cell_type": "code",
      "source": [
        "with open(\"cleandata.json\", \"w\") as write_file:\n",
        "    json.dump(cleandata, write_file, indent=4)"
      ],
      "metadata": {
        "id": "oL7mE4tJqgeV"
      },
      "execution_count": null,
      "outputs": []
    },
    {
      "cell_type": "code",
      "source": [
        "from google.colab import files\n",
        "files.download('cleandata.json')"
      ],
      "metadata": {
        "id": "yhDnEUgYqnGI"
      },
      "execution_count": null,
      "outputs": []
    },
    {
      "cell_type": "markdown",
      "source": [
        "# Some statistics"
      ],
      "metadata": {
        "id": "WTvAfgKKiSzg"
      }
    },
    {
      "cell_type": "code",
      "metadata": {
        "id": "UqkzulMY-lnM"
      },
      "source": [
        "import matplotlib.pyplot as plt\n",
        "import numpy as np\n",
        "from matplotlib import colors\n",
        "from matplotlib.ticker import PercentFormatter"
      ],
      "execution_count": null,
      "outputs": []
    },
    {
      "cell_type": "markdown",
      "source": [
        "Let's check the distribution of abstract lengths!"
      ],
      "metadata": {
        "id": "DtILSOFQpo3Q"
      }
    },
    {
      "cell_type": "code",
      "metadata": {
        "id": "RvtQeDIJ_jH9"
      },
      "source": [
        "alens=[len(c['abstract']) for c in cleandata]"
      ],
      "execution_count": null,
      "outputs": []
    },
    {
      "cell_type": "code",
      "metadata": {
        "colab": {
          "base_uri": "https://localhost:8080/",
          "height": 503
        },
        "id": "RDrtOCxZ_PlQ",
        "outputId": "da1bf9c7-e342-4f58-af36-eb6721d56931"
      },
      "source": [
        "fig, axs = plt.subplots(1,1)\n",
        "axs.hist(alens,bins=50)"
      ],
      "execution_count": null,
      "outputs": [
        {
          "output_type": "execute_result",
          "data": {
            "text/plain": [
              "(array([ 59., 232., 404., 621., 638., 547., 510., 408., 349., 258., 219.,\n",
              "        189., 134., 144., 100., 102.,  45.,   3.,   5.,   7.,   9.,   3.,\n",
              "          4.,   1.,   2.,   0.,   0.,   0.,   1.,   1.,   1.,   0.,   0.,\n",
              "          1.,   0.,   0.,   0.,   0.,   0.,   1.,   0.,   0.,   0.,   0.,\n",
              "          0.,   0.,   0.,   1.,   1.,   1.]),\n",
              " array([  16.  ,  129.94,  243.88,  357.82,  471.76,  585.7 ,  699.64,\n",
              "         813.58,  927.52, 1041.46, 1155.4 , 1269.34, 1383.28, 1497.22,\n",
              "        1611.16, 1725.1 , 1839.04, 1952.98, 2066.92, 2180.86, 2294.8 ,\n",
              "        2408.74, 2522.68, 2636.62, 2750.56, 2864.5 , 2978.44, 3092.38,\n",
              "        3206.32, 3320.26, 3434.2 , 3548.14, 3662.08, 3776.02, 3889.96,\n",
              "        4003.9 , 4117.84, 4231.78, 4345.72, 4459.66, 4573.6 , 4687.54,\n",
              "        4801.48, 4915.42, 5029.36, 5143.3 , 5257.24, 5371.18, 5485.12,\n",
              "        5599.06, 5713.  ]),\n",
              " <a list of 50 Patch objects>)"
            ]
          },
          "metadata": {},
          "execution_count": 55
        },
        {
          "output_type": "display_data",
          "data": {
            "text/plain": [
              "<Figure size 432x288 with 1 Axes>"
            ],
            "image/png": "[encoded data removed]"
          },
          "metadata": {
            "needs_background": "light"
          }
        }
      ]
    },
    {
      "cell_type": "markdown",
      "source": [
        "Looks log-normal, typical abstract is around 700 characters long. This is useful to keep in mind when we train a language model."
      ],
      "metadata": {
        "id": "DUfWNAPhp3Uu"
      }
    }
  ]
}